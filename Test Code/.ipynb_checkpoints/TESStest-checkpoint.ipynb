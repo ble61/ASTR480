{
 "cells": [
  {
   "cell_type": "code",
   "execution_count": 3,
   "metadata": {},
   "outputs": [
    {
     "name": "stdout",
     "output_type": "stream",
     "text": [
      "Welcome to the API of the Open Astronomy Catalogs! Please see https://github.com/astrocatalogs/OACAPI for API examples.\n",
      "Traceback (most recent call last):\n",
      "  File \"/home/users/ble61/.local/lib/python3.10/site-packages/tessreduce/tessreduce.py\", line 1847, in reduce\n",
      "    if (self.flux.shape[1] < 30) & (self.flux.shape[2] < 30):\n",
      "AttributeError: 'NoneType' object has no attribute 'shape'\n",
      "\n"
     ]
    }
   ],
   "source": [
    "import tessreduce as tr\n",
    "\n",
    "obs = tr.sn_lookup('sn2018fub')\n",
    "tess = tr.tessreduce(obs_list=obs,plot=False,reduce=True)"
   ]
  },
  {
   "cell_type": "code",
   "execution_count": null,
   "metadata": {},
   "outputs": [],
   "source": []
  }
 ],
 "metadata": {
  "kernelspec": {
   "display_name": "Python 3 (ipykernel)",
   "language": "python",
   "name": "python3"
  },
  "language_info": {
   "codemirror_mode": {
    "name": "ipython",
    "version": 3
   },
   "file_extension": ".py",
   "mimetype": "text/x-python",
   "name": "python",
   "nbconvert_exporter": "python",
   "pygments_lexer": "ipython3",
   "version": "3.10.9"
  }
 },
 "nbformat": 4,
 "nbformat_minor": 2
}
